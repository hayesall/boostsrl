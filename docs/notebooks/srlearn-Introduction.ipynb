{
 "cells": [
  {
   "cell_type": "markdown",
   "metadata": {},
   "source": [
    "# An Introduction to the `srlearn` Python Package\n",
    "\n",
    "Alexander L. Hayes &mdash; Health Informatics Ph.D. Student &mdash; Indiana University Bloomington  \n",
    "Sriraam Natarajan &mdash; Professor of Computer Science at the University of Texas at Dallas\n",
    "\n",
    "Email: [hayesall@iu.edu](mailto:hayesall@iu.edu)  \n",
    "GitHub: [https://github.com/hayesall/srlearn](https://github.com/hayesall/srlearn)\n",
    "\n",
    "This notebook accompanies several parts of the user guide, refer to the following pages for more information:\n",
    "\n",
    "- [Getting Started (srlearn docs)](https://srlearn.readthedocs.io/en/latest/getting_started.html)\n",
    "- [User Guide (srlearn docs)](https://srlearn.readthedocs.io/en/latest/user_guide.html)\n",
    "\n",
    "## Quick-Start\n",
    "\n",
    "A few things are required before executing.\n",
    "\n",
    "- Unix-based system (this has not been sufficiently tested in a Windows environment)\n",
    "- Java (>=1.8)\n",
    "- Python (3.6, 3.7)\n",
    "\n",
    "Java should be installed on your system and available on your PATH (if running `java -version` results in a version number printed to the terminal, you are probably fine).\n",
    "\n",
    "`srlearn` can be installed with `pip`:\n",
    "\n",
    "```bash\n",
    "$ pip install srlearn\n",
    "```\n",
    "\n",
    "## `srlearn`"
   ]
  },
  {
   "cell_type": "code",
   "execution_count": 1,
   "metadata": {},
   "outputs": [],
   "source": [
    "import srlearn"
   ]
  },
  {
   "cell_type": "markdown",
   "metadata": {},
   "source": [
    "### Background Knowledge\n",
    "\n",
    "**Background Knowledge** currently involves specifying the **modes** for constraining the hypothesis search space. Other parameters such as `max_tree_depth` and `node_size` may be specified here as well, but these would be more appropriate defining as part of a model. In the future, these model-specific parameters may be set elsewhere."
   ]
  },
  {
   "cell_type": "code",
   "execution_count": 2,
   "metadata": {},
   "outputs": [
    {
     "name": "stdout",
     "output_type": "stream",
     "text": [
      "setParam: nodeSize=2.\n",
      "setParam: maxTreeDepth=3.\n",
      "setParam: numOfClauses=100.\n",
      "setParam: numOfCycles=100.\n",
      "usePrologVariables: true.\n",
      "mode: cancer(+Person).\n",
      "mode: smokes(+Person).\n",
      "mode: friends(+Person, -Person).\n",
      "mode: friends(-Person, +Person).\n",
      "\n"
     ]
    }
   ],
   "source": [
    "from srlearn import Background\n",
    "\n",
    "# Modes constrain the search space for hypotheses\n",
    "toy_cancer_modes = [\n",
    "    \"cancer(+Person).\",\n",
    "    \"smokes(+Person).\",\n",
    "    \"friends(+Person, -Person).\",\n",
    "    \"friends(-Person, +Person).\",\n",
    "]\n",
    "\n",
    "# Background object includes the modes and some additional parameters for how our domain may look.\n",
    "bk = Background(\n",
    "    modes=toy_cancer_modes,\n",
    ")\n",
    "\n",
    "print(bk)"
   ]
  },
  {
   "cell_type": "markdown",
   "metadata": {},
   "source": [
    "### Database of clauses\n",
    "\n",
    "Our next focus should be on *the data*. Data for `srlearn` takes the form of predicate logic. Here the clauses are defined inline the code, but these could just as easily be read from a file or created with a simulator for *reinforcement learning* domains."
   ]
  },
  {
   "cell_type": "code",
   "execution_count": 3,
   "metadata": {
    "scrolled": true
   },
   "outputs": [
    {
     "name": "stdout",
     "output_type": "stream",
     "text": [
      "Positive Examples:\n",
      "['cancer(alice).', 'cancer(bob).', 'cancer(chuck).', 'cancer(fred).']\n",
      "Negative Examples:\n",
      "['cancer(dan).', 'cancer(earl).']\n",
      "Facts:\n",
      "['friends(alice, bob).', 'friends(alice, fred).', 'friends(chuck, bob).', 'friends(chuck, fred).', 'friends(dan, bob).', 'friends(earl, bob).', 'friends(bob, alice).', 'friends(fred, alice).', 'friends(bob, chuck).', 'friends(fred, chuck).', 'friends(bob, dan).', 'friends(bob, earl).', 'smokes(alice).', 'smokes(chuck).', 'smokes(bob).']\n"
     ]
    }
   ],
   "source": [
    "from srlearn import Database\n",
    "\n",
    "train_pos = [\"cancer(alice).\", \"cancer(bob).\", \"cancer(chuck).\", \"cancer(fred).\"]\n",
    "train_neg = [\"cancer(dan).\", \"cancer(earl).\"]\n",
    "train_facts = [\n",
    "    \"friends(alice, bob).\", \"friends(alice, fred).\", \"friends(chuck, bob).\", \"friends(chuck, fred).\",\n",
    "    \"friends(dan, bob).\", \"friends(earl, bob).\", \"friends(bob, alice).\", \"friends(fred, alice).\",\n",
    "    \"friends(bob, chuck).\", \"friends(fred, chuck).\", \"friends(bob, dan).\", \"friends(bob, earl).\",\n",
    "    \"smokes(alice).\", \"smokes(chuck).\", \"smokes(bob).\",\n",
    "]\n",
    "\n",
    "# Instantiate a `Database` object\n",
    "db = Database()\n",
    "\n",
    "# Set the positive examples, negative examples, and facts for the Database.\n",
    "db.pos = train_pos\n",
    "db.neg = train_neg\n",
    "db.facts = train_facts\n",
    "\n",
    "print(db)"
   ]
  },
  {
   "cell_type": "markdown",
   "metadata": {},
   "source": [
    "### Relational Dependency Network Learning\n",
    "\n",
    "The model API should look familiar if you've worked with [scikit-learn](https://scikit-learn.org/stable/) before. **The only difference** is that instead of passing `X,y` numpy arrays, we pass `Database` objects.\n",
    "\n",
    "We'll instantiate an RDN to see what some of the default parameters look like:"
   ]
  },
  {
   "cell_type": "code",
   "execution_count": 4,
   "metadata": {},
   "outputs": [
    {
     "name": "stdout",
     "output_type": "stream",
     "text": [
      "BoostedRDNClassifier()\n"
     ]
    }
   ],
   "source": [
    "from srlearn.rdn import BoostedRDNClassifier\n",
    "\n",
    "# Instantiate an RDN with no parameters.\n",
    "dn = BoostedRDNClassifier()\n",
    "\n",
    "print(dn)"
   ]
  },
  {
   "cell_type": "markdown",
   "metadata": {},
   "source": [
    "... **but fitting this model will not make sense unless** we specify a **target** and the **background knowledge** we defined earlier."
   ]
  },
  {
   "cell_type": "code",
   "execution_count": 5,
   "metadata": {},
   "outputs": [
    {
     "name": "stderr",
     "output_type": "stream",
     "text": [
      "/home/hayesall/miniconda3/envs/srlearn/lib/python3.7/site-packages/ipykernel/ipkernel.py:287: DeprecationWarning: `should_run_async` will not call `transform_cell` automatically in the future. Please pass the result to `transformed_cell` argument and any exception that happen during thetransform in `preprocessing_exc_tuple` in IPython 7.17 and above.\n",
      "  and should_run_async(code)\n"
     ]
    },
    {
     "data": {
      "text/plain": [
       "BoostedRDNClassifier(background=setParam: nodeSize=2.\n",
       "setParam: maxTreeDepth=3.\n",
       "setParam: numOfClauses=100.\n",
       "setParam: numOfCycles=100.\n",
       "usePrologVariables: true.\n",
       "mode: cancer(+Person).\n",
       "mode: smokes(+Person).\n",
       "mode: friends(+Person, -Person).\n",
       "mode: friends(-Person, +Person).\n",
       ",\n",
       "                     target='cancer')"
      ]
     },
     "execution_count": 5,
     "metadata": {},
     "output_type": "execute_result"
    }
   ],
   "source": [
    "# Instantiate an RDN with a target to learn, and the background knowledge\n",
    "dn = BoostedRDNClassifier(\n",
    "    target=\"cancer\",\n",
    "    background=bk,\n",
    ")\n",
    "\n",
    "# Fit a model with the `fit` method\n",
    "dn.fit(db)"
   ]
  },
  {
   "cell_type": "code",
   "execution_count": 6,
   "metadata": {},
   "outputs": [
    {
     "data": {
      "image/svg+xml": [
       "<?xml version=\"1.0\" encoding=\"UTF-8\" standalone=\"no\"?>\n",
       "<!DOCTYPE svg PUBLIC \"-//W3C//DTD SVG 1.1//EN\"\n",
       " \"http://www.w3.org/Graphics/SVG/1.1/DTD/svg11.dtd\">\n",
       "<!-- Generated by graphviz version 2.40.1 (20161225.0304)\n",
       " -->\n",
       "<!-- Title: G Pages: 1 -->\n",
       "<svg width=\"200pt\" height=\"131pt\"\n",
       " viewBox=\"0.00 0.00 200.00 131.00\" xmlns=\"http://www.w3.org/2000/svg\" xmlns:xlink=\"http://www.w3.org/1999/xlink\">\n",
       "<g id=\"graph0\" class=\"graph\" transform=\"scale(1 1) rotate(0) translate(4 127)\">\n",
       "<title>G</title>\n",
       "<polygon fill=\"#ffffff\" stroke=\"transparent\" points=\"-4,4 -4,-127 196,-127 196,4 -4,4\"/>\n",
       "<!-- 1 -->\n",
       "<g id=\"node1\" class=\"node\">\n",
       "<title>1</title>\n",
       "<ellipse fill=\"none\" stroke=\"#000000\" cx=\"95.5\" cy=\"-105\" rx=\"55.7903\" ry=\"18\"/>\n",
       "<text text-anchor=\"middle\" x=\"95.5\" y=\"-101.3\" font-family=\"Times,serif\" font-size=\"14.00\" fill=\"#000000\">[smokes(A)]</text>\n",
       "</g>\n",
       "<!-- 2 -->\n",
       "<g id=\"node2\" class=\"node\">\n",
       "<title>2</title>\n",
       "<polygon fill=\"none\" stroke=\"#000000\" points=\"87,-36 0,-36 0,0 87,0 87,-36\"/>\n",
       "<text text-anchor=\"middle\" x=\"43.5\" y=\"-14.3\" font-family=\"Times,serif\" font-size=\"14.00\" fill=\"#000000\">0.858(0.702)</text>\n",
       "</g>\n",
       "<!-- 1&#45;&gt;2 -->\n",
       "<g id=\"edge1\" class=\"edge\">\n",
       "<title>1&#45;&gt;2</title>\n",
       "<path fill=\"none\" stroke=\"#000000\" d=\"M84.7256,-86.9735C77.4744,-74.8418 67.7838,-58.6287 59.6199,-44.9698\"/>\n",
       "<polygon fill=\"#000000\" stroke=\"#000000\" points=\"62.3954,-42.7913 54.2606,-36.0034 56.3868,-46.3827 62.3954,-42.7913\"/>\n",
       "<text text-anchor=\"middle\" x=\"86.5\" y=\"-57.8\" font-family=\"Times,serif\" font-size=\"14.00\" fill=\"#000000\">True</text>\n",
       "</g>\n",
       "<!-- 3 -->\n",
       "<g id=\"node3\" class=\"node\">\n",
       "<title>3</title>\n",
       "<polygon fill=\"none\" stroke=\"#000000\" points=\"192,-36 105,-36 105,0 192,0 192,-36\"/>\n",
       "<text text-anchor=\"middle\" x=\"148.5\" y=\"-14.3\" font-family=\"Times,serif\" font-size=\"14.00\" fill=\"#000000\">0.191(0.548)</text>\n",
       "</g>\n",
       "<!-- 1&#45;&gt;3 -->\n",
       "<g id=\"edge2\" class=\"edge\">\n",
       "<title>1&#45;&gt;3</title>\n",
       "<path fill=\"none\" stroke=\"#000000\" d=\"M106.4816,-86.9735C113.9433,-74.7252 123.9394,-58.3165 132.3097,-44.5766\"/>\n",
       "<polygon fill=\"#000000\" stroke=\"#000000\" points=\"135.3188,-46.3644 137.5324,-36.0034 129.3408,-42.7225 135.3188,-46.3644\"/>\n",
       "<text text-anchor=\"middle\" x=\"139\" y=\"-57.8\" font-family=\"Times,serif\" font-size=\"14.00\" fill=\"#000000\">False</text>\n",
       "</g>\n",
       "</g>\n",
       "</svg>\n"
      ],
      "text/plain": [
       "<graphviz.files.Source at 0x7b45662f7510>"
      ]
     },
     "execution_count": 6,
     "metadata": {},
     "output_type": "execute_result"
    }
   ],
   "source": [
    "from srlearn.plotting import plot_digraph\n",
    "from srlearn.plotting import export_digraph\n",
    "\n",
    "plot_digraph(export_digraph(dn, tree_index=0))"
   ]
  },
  {
   "cell_type": "markdown",
   "metadata": {},
   "source": [
    "### Testing our model on new data\n",
    "\n",
    "Now that we've fit a model, we can perform inference to assign probabilities to whether each example should belong to a class."
   ]
  },
  {
   "cell_type": "code",
   "execution_count": 7,
   "metadata": {},
   "outputs": [
    {
     "name": "stderr",
     "output_type": "stream",
     "text": [
      "/home/hayesall/miniconda3/envs/srlearn/lib/python3.7/site-packages/ipykernel/ipkernel.py:287: DeprecationWarning: `should_run_async` will not call `transform_cell` automatically in the future. Please pass the result to `transformed_cell` argument and any exception that happen during thetransform in `preprocessing_exc_tuple` in IPython 7.17 and above.\n",
      "  and should_run_async(code)\n"
     ]
    },
    {
     "name": "stdout",
     "output_type": "stream",
     "text": [
      "[0.88079619 0.88079619 0.88079619 0.3075821  0.3075821 ]\n"
     ]
    }
   ],
   "source": [
    "test_pos = [\"cancer(zod).\", \"cancer(xena).\", \"cancer(yoda).\"]\n",
    "test_neg = [\"cancer(voldemort).\", \"cancer(watson).\"]\n",
    "test_facts = [\n",
    "    \"friends(zod, xena).\", \"friends(xena, watson).\", \"friends(watson, voldemort).\", \"friends(voldemort, yoda).\",\n",
    "    \"friends(yoda, zod).\", \"friends(xena, zod).\", \"friends(watson, xena).\", \"friends(voldemort, watson).\",\n",
    "    \"friends(yoda, voldemort).\", \"friends(zod, yoda).\", \"smokes(zod).\", \"smokes(xena).\", \"smokes(yoda).\",\n",
    "]\n",
    "\n",
    "test_db = Database()\n",
    "test_db.pos = test_pos\n",
    "test_db.neg = test_neg\n",
    "test_db.facts = test_facts\n",
    "\n",
    "print(dn.predict_proba(test_db))"
   ]
  }
 ],
 "metadata": {
  "kernelspec": {
   "display_name": "Python 3",
   "language": "python",
   "name": "python3"
  },
  "language_info": {
   "codemirror_mode": {
    "name": "ipython",
    "version": 3
   },
   "file_extension": ".py",
   "mimetype": "text/x-python",
   "name": "python",
   "nbconvert_exporter": "python",
   "pygments_lexer": "ipython3",
   "version": "3.7.9"
  }
 },
 "nbformat": 4,
 "nbformat_minor": 2
}
